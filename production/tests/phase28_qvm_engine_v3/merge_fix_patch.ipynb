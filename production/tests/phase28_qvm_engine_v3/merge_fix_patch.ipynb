{
 "cells": [
  {
   "cell_type": "markdown",
   "id": "43533fcb",
   "metadata": {},
   "source": [
    "Fix for MergeError in calculate_factors_for_date method\n",
    "Replace the existing method in 06_qvm_engine_v3e_optimized.py"
   ]
  },
  {
   "cell_type": "code",
   "execution_count": null,
   "id": "807398b3",
   "metadata": {},
   "outputs": [],
   "source": [
    "def calculate_factors_for_date(self, date: pd.Timestamp, \n",
    "                             fundamental_data: pd.DataFrame,\n",
    "                             momentum_data: dict,\n",
    "                             universe_mask: pd.DataFrame) -> pd.DataFrame:\n",
    "    \"\"\"Calculate all factors for a specific date (optimized) - FIXED VERSION\"\"\"\n",
    "    \n",
    "    # Get fundamental data for the date\n",
    "    date_fundamentals = fundamental_data[fundamental_data['date'] == date].copy()\n",
    "    \n",
    "    if date_fundamentals.empty:\n",
    "        return pd.DataFrame()\n",
    "    \n",
    "    # Start with fundamental factors\n",
    "    factors_df = date_fundamentals[['ticker', 'pe_ratio', 'pb_ratio', 'roe', \n",
    "                                  'debt_to_equity', 'current_ratio', 'quick_ratio', \n",
    "                                  'gross_margin', 'net_margin']].copy()\n",
    "    \n",
    "    # Add momentum factors (FIXED: avoid duplicate column conflicts)\n",
    "    for key, momentum_series in momentum_data.items():\n",
    "        # Get momentum data for the specific date\n",
    "        momentum_subset = momentum_series.loc[date]\n",
    "        \n",
    "        # Reset index and select only ticker and momentum value columns\n",
    "        momentum_df = momentum_subset.reset_index()\n",
    "        # Select only ticker and the momentum value column, drop any date column\n",
    "        momentum_df = momentum_df[['ticker', key]]\n",
    "        \n",
    "        # Merge on ticker only\n",
    "        factors_df = factors_df.merge(momentum_df, on='ticker', how='left')\n",
    "    \n",
    "    # Calculate quality-adjusted P/E (vectorized)\n",
    "    factors_df = self._calculate_quality_adjusted_pe(factors_df)\n",
    "    \n",
    "    # Calculate composite score (vectorized)\n",
    "    factors_df = self._calculate_composite_score_vectorized(factors_df)\n",
    "    \n",
    "    # Apply universe filter\n",
    "    if date in universe_mask.index:\n",
    "        universe_subset = universe_mask.loc[date]\n",
    "        universe_tickers = universe_subset[universe_subset].index.tolist()\n",
    "        factors_df = factors_df[factors_df['ticker'].isin(universe_tickers)]\n",
    "    \n",
    "    return factors_df "
   ]
  }
 ],
 "metadata": {
  "jupytext": {
   "cell_metadata_filter": "-all",
   "main_language": "python",
   "notebook_metadata_filter": "-all"
  }
 },
 "nbformat": 4,
 "nbformat_minor": 5
}
