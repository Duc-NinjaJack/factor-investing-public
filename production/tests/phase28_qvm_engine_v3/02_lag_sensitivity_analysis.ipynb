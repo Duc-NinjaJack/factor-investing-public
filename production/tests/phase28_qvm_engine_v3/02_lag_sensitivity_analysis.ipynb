{
 "cells": [
  {
   "cell_type": "markdown",
   "id": "5f02773c",
   "metadata": {},
   "source": [
    "# Lag Sensitivity Analysis (Standalone)\n",
    "\n",
    "This notebook tests the sensitivity of the strategy to the lag period for fundamentals (45, 30, 60, 75, 90 days) using the full backtest period.\n",
    "\n",
    "---"
   ]
  },
  {
   "cell_type": "code",
   "execution_count": null,
   "id": "8ce98a3b",
   "metadata": {},
   "outputs": [],
   "source": [
    "# --- Imports & Setup ---\n",
    "import pandas as pd\n",
    "import numpy as np\n",
    "import matplotlib.pyplot as plt\n",
    "\n",
    "# TODO: Import your QVM Engine or backtest function here\n",
    "# from qvm_engine_v3 import QVMEngineV3AdoptedInsights\n",
    "\n",
    "# --- Load Data & Config ---\n",
    "# TODO: Load your price_data, fundamental_data, returns_matrix, benchmark_returns, config, engine, etc.\n",
    "\n",
    "LAG_PERIODS = [45, 30, 60, 75, 90]  # days"
   ]
  },
  {
   "cell_type": "markdown",
   "id": "3b508869",
   "metadata": {},
   "source": [
    "## Run Backtest for Each Lag"
   ]
  },
  {
   "cell_type": "code",
   "execution_count": null,
   "id": "5aa76618",
   "metadata": {},
   "outputs": [],
   "source": [
    "lag_results = {}\n",
    "for lag in LAG_PERIODS:\n",
    "    print(f\"\\n=== Running backtest for lag: {lag} days ===\")\n",
    "    config_run = config.copy()\n",
    "    config_run['factors'] = config['factors'].copy()\n",
    "    config_run['factors']['fundamental_lag_days'] = lag\n",
    "    # TODO: Run your QVM Engine or backtest here\n",
    "    # net_returns, diagnostics = engine.run_backtest()\n",
    "    net_returns = pd.Series(dtype='float64')  # TODO: Replace\n",
    "    diagnostics = pd.DataFrame()  # TODO: Replace\n",
    "    lag_results[lag] = {'net_returns': net_returns, 'diagnostics': diagnostics}"
   ]
  },
  {
   "cell_type": "markdown",
   "id": "4b9748f4",
   "metadata": {},
   "source": [
    "## Plot Results"
   ]
  },
  {
   "cell_type": "code",
   "execution_count": null,
   "id": "999d49b7",
   "metadata": {},
   "outputs": [],
   "source": [
    "plt.figure(figsize=(12,6))\n",
    "for lag, res in lag_results.items():\n",
    "    net = res['net_returns']\n",
    "    if not net.empty:\n",
    "        cum = (1 + net).cumprod()\n",
    "        plt.plot(cum, label=f'Lag {lag}d')\n",
    "plt.title('Cumulative Returns by Lag Period')\n",
    "plt.legend()\n",
    "plt.show()"
   ]
  },
  {
   "cell_type": "markdown",
   "id": "008666c3",
   "metadata": {},
   "source": [
    "## Performance Metrics Comparison"
   ]
  },
  {
   "cell_type": "code",
   "execution_count": null,
   "id": "53ed9b94",
   "metadata": {},
   "outputs": [],
   "source": [
    "# Calculate performance metrics for each lag\n",
    "performance_summary = {}\n",
    "for lag, res in lag_results.items():\n",
    "    net = res['net_returns']\n",
    "    if not net.empty:\n",
    "        # Basic metrics\n",
    "        total_return = (1 + net).prod() - 1\n",
    "        annualized_return = (1 + total_return) ** (252 / len(net)) - 1\n",
    "        volatility = net.std() * np.sqrt(252)\n",
    "        sharpe_ratio = annualized_return / volatility if volatility > 0 else 0\n",
    "        \n",
    "        # Drawdown\n",
    "        cumulative = (1 + net).cumprod()\n",
    "        running_max = cumulative.expanding().max()\n",
    "        drawdown = (cumulative - running_max) / running_max\n",
    "        max_drawdown = drawdown.min()\n",
    "        \n",
    "        performance_summary[lag] = {\n",
    "            'Total Return': total_return,\n",
    "            'Annualized Return': annualized_return,\n",
    "            'Volatility': volatility,\n",
    "            'Sharpe Ratio': sharpe_ratio,\n",
    "            'Max Drawdown': max_drawdown\n",
    "        }\n",
    "\n",
    "# Display results\n",
    "if performance_summary:\n",
    "    summary_df = pd.DataFrame(performance_summary).T\n",
    "    print(\"Performance Summary by Lag Period:\")\n",
    "    print(summary_df.round(4))"
   ]
  },
  {
   "cell_type": "markdown",
   "id": "bd3ef39e",
   "metadata": {},
   "source": [
    "## Sensitivity Analysis Summary\n",
    "\n",
    "- Summarize performance metrics (return, Sharpe, drawdown, etc.) for each lag\n",
    "- Discuss how lag period affects strategy performance\n",
    "- Add your own analysis and conclusions here. "
   ]
  }
 ],
 "metadata": {
  "kernelspec": {
   "display_name": "Python 3",
   "language": "python",
   "name": "python3"
  }
 },
 "nbformat": 4,
 "nbformat_minor": 5
}
