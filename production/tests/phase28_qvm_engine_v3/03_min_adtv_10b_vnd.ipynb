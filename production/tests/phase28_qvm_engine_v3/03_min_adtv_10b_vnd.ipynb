{
 "cells": [
  {
   "cell_type": "markdown",
   "id": "ceb345db",
   "metadata": {},
   "source": [
    "# Min ADTV (10B VND) Adjustment\n",
    "\n",
    "**Instructions:**\n",
    "- Clone your `28_qvm_engine_v3c.ipynb` notebook.\n",
    "- Change the ADTV threshold from shares to VND in the config and SQL logic.\n",
    "\n",
    "**Key Changes:**\n",
    "1. Update config: `adtv_threshold_vnd: 10_000_000_000` (10 billion VND)\n",
    "2. Update SQL query: Use `total_volume * close_price_adjusted` instead of just `total_volume`\n",
    "3. Update Python code: Use the new config key\n",
    "\n",
    "---"
   ]
  },
  {
   "cell_type": "code",
   "execution_count": null,
   "id": "b6314873",
   "metadata": {},
   "outputs": [],
   "source": [
    "# --- Configuration Changes ---\n",
    "# \n",
    "# OLD CONFIG (incorrect):\n",
    "# \"universe\": {\n",
    "#     \"lookback_days\": 60,\n",
    "#     \"adtv_threshold_shares\": 1000000,  # 1 million shares\n",
    "#     \"min_market_cap_bn\": 1.0,\n",
    "#     \"target_portfolio_size\": 25\n",
    "# }\n",
    "# \n",
    "# NEW CONFIG (correct):\n",
    "# \"universe\": {\n",
    "#     \"lookback_days\": 60,\n",
    "#     \"adtv_threshold_vnd\": 10_000_000_000,  # 10 billion VND\n",
    "#     \"min_market_cap_bn\": 1.0,\n",
    "#     \"target_portfolio_size\": 25\n",
    "# }"
   ]
  },
  {
   "cell_type": "code",
   "execution_count": null,
   "id": "0f5b247c",
   "metadata": {},
   "outputs": [],
   "source": [
    "# --- SQL Query Changes ---\n",
    "# \n",
    "# OLD QUERY (incorrect):\n",
    "# SELECT \n",
    "#     ticker,\n",
    "#     AVG(total_volume) as avg_volume,\n",
    "#     AVG(market_cap) as avg_market_cap\n",
    "# FROM vcsc_daily_data_complete\n",
    "# WHERE trading_date <= :analysis_date\n",
    "#   AND trading_date >= DATE_SUB(:analysis_date, INTERVAL :lookback_days DAY)\n",
    "# GROUP BY ticker\n",
    "# HAVING avg_volume >= :adtv_threshold AND avg_market_cap >= :min_market_cap\n",
    "# \n",
    "# NEW QUERY (correct):\n",
    "# SELECT \n",
    "#     ticker,\n",
    "#     AVG(total_volume * close_price_adjusted) as avg_adtv_vnd,\n",
    "#     AVG(market_cap) as avg_market_cap\n",
    "# FROM vcsc_daily_data_complete\n",
    "# WHERE trading_date <= :analysis_date\n",
    "#   AND trading_date >= DATE_SUB(:analysis_date, INTERVAL :lookback_days DAY)\n",
    "# GROUP BY ticker\n",
    "# HAVING avg_adtv_vnd >= :adtv_threshold AND avg_market_cap >= :min_market_cap"
   ]
  },
  {
   "cell_type": "code",
   "execution_count": null,
   "id": "871c4516",
   "metadata": {},
   "outputs": [],
   "source": [
    "# --- Python Code Changes ---\n",
    "# \n",
    "# OLD CODE (incorrect):\n",
    "# adtv_threshold = self.config['universe']['adtv_threshold_shares']  # Already in shares\n",
    "# \n",
    "# NEW CODE (correct):\n",
    "# adtv_threshold = self.config['universe']['adtv_threshold_vnd']  # Now in VND"
   ]
  },
  {
   "cell_type": "code",
   "execution_count": null,
   "id": "43abae39",
   "metadata": {},
   "outputs": [],
   "source": [
    "# --- Implementation Steps ---\n",
    "# \n",
    "# 1. Copy your 28_qvm_engine_v3c.ipynb to a new file\n",
    "# 2. Update the config section with the new ADTV threshold\n",
    "# 3. Update the _get_universe method SQL query\n",
    "# 4. Update the Python code to use the new config key\n",
    "# 5. Test the changes"
   ]
  },
  {
   "cell_type": "markdown",
   "id": "b96c81ff",
   "metadata": {},
   "source": [
    "## Benefits of VND-based ADTV\n",
    "\n",
    "1. **Proper Liquidity Measurement**: ADTV in VND measures actual trading value, not just share count\n",
    "2. **Price-Aware Filtering**: Accounts for both volume and price, filtering out low-value high-volume stocks\n",
    "3. **Market Standard**: Most institutional investors use currency-based liquidity measures\n",
    "4. **Better Risk Management**: Prevents investing in stocks with low trading value despite high share volume\n",
    "5. **Consistent with Market Cap**: Both ADTV and market cap are in currency terms\n",
    "\n",
    "## Example\n",
    "\n",
    "- Stock A: 1M shares traded at 10,000 VND = 10B VND ADTV ✅ (passes 10B threshold)\n",
    "- Stock B: 1M shares traded at 1,000 VND = 1B VND ADTV ❌ (fails 10B threshold)\n",
    "\n",
    "This is more meaningful than just counting shares!"
   ]
  },
  {
   "cell_type": "code",
   "execution_count": null,
   "id": "f380ca4c",
   "metadata": {},
   "outputs": [],
   "source": [
    "# --- Suggested Threshold Values ---\n",
    "# \n",
    "# thresholds = {\n",
    "#     \"Conservative\": 20_000_000_000,  # 20B VND - very liquid stocks only\n",
    "#     \"Balanced\": 10_000_000_000,      # 10B VND - good liquidity (recommended)\n",
    "#     \"Aggressive\": 5_000_000_000,     # 5B VND - more stocks included\n",
    "#     \"Very Aggressive\": 2_000_000_000 # 2B VND - maximum universe\n",
    "# }\n",
    "# \n",
    "# Recommendation: Start with 10B VND (Balanced) and adjust based on:\n",
    "# - Desired universe size\n",
    "# - Liquidity requirements\n",
    "# - Market conditions "
   ]
  }
 ],
 "metadata": {
  "kernelspec": {
   "display_name": "Python 3",
   "language": "python",
   "name": "python3"
  }
 },
 "nbformat": 4,
 "nbformat_minor": 5
}
