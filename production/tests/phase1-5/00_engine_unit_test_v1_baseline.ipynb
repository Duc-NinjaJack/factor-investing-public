{
 "cells": [
  {
   "cell_type": "markdown",
   "id": "canonical-engine-test",
   "metadata": {},
   "source": [
    "# Baseline QVM Engine (v1) - Unit Test\n",
    "\n",
    "**Purpose:** Validate baseline engine (v1) as control group for scientific bake-off  \n",
    "**Engine Type:** Simple ROAE-based Quality Signal implementation  \n",
    "**Test Universe:** 4 tickers (OCB, NLG, FPT, SSI)  \n",
    "**Test Date:** 2025-03-31 (known data availability)  \n",
    "**Status:** CONTROL GROUP for signal construction experiment\n",
    "\n",
    "**Success Criteria:**\n",
    "- ✅ Unit test runs without errors on 4-ticker universe\n",
    "- ✅ All factor scores are non-zero and economically reasonable\n",
    "- ✅ Results represent simple hypothesis baseline\n",
    "- ✅ **HYPOTHESIS**: Expected ~18% annual return, 1.2 Sharpe ratio"
   ]
  },
  {
   "cell_type": "code",
   "execution_count": 1,
   "id": "setup-imports",
   "metadata": {},
   "outputs": [
    {
     "name": "stdout",
     "output_type": "stream",
     "text": [
      "✅ Baseline QVM Engine (v1) Unit Test Setup Complete\n",
      "Production path: /Users/ducnguyen/Library/CloudStorage/GoogleDrive-duc.nguyentcb@gmail.com/My Drive/quant-world-invest/factor_investing_project/production\n"
     ]
    }
   ],
   "source": [
    "# Setup imports and logging\n",
    "import sys\n",
    "import pandas as pd\n",
    "import numpy as np\n",
    "from pathlib import Path\n",
    "from datetime import datetime\n",
    "import logging\n",
    "\n",
    "# Add production engine to path\n",
    "production_path = Path.cwd().parent\n",
    "sys.path.append(str(production_path))\n",
    "\n",
    "# Import baseline engine (v1)\n",
    "from engine.qvm_engine_v1_baseline import QVMEngineV1Baseline\n",
    "\n",
    "# Setup logging for test visibility\n",
    "logging.basicConfig(\n",
    "    level=logging.INFO,\n",
    "    format='%(asctime)s - %(name)s - %(levelname)s - %(message)s'\n",
    ")\n",
    "\n",
    "print(\"✅ Baseline QVM Engine (v1) Unit Test Setup Complete\")\n",
    "print(f\"Production path: {production_path}\")"
   ]
  },
  {
   "cell_type": "code",
   "execution_count": 2,
   "id": "initialize-engine",
   "metadata": {},
   "outputs": [
    {
     "name": "stderr",
     "output_type": "stream",
     "text": [
      "2025-07-22 21:33:35,644 - CanonicalQVMEngine - INFO - Initializing Canonical QVM Engine\n",
      "2025-07-22 21:33:35,644 - CanonicalQVMEngine - INFO - Initializing Canonical QVM Engine\n",
      "2025-07-22 21:33:35,654 - CanonicalQVMEngine - INFO - Configurations loaded successfully\n",
      "2025-07-22 21:33:35,654 - CanonicalQVMEngine - INFO - Configurations loaded successfully\n",
      "2025-07-22 21:33:35,719 - CanonicalQVMEngine - INFO - Database connection established successfully\n",
      "2025-07-22 21:33:35,719 - CanonicalQVMEngine - INFO - Database connection established successfully\n",
      "2025-07-22 21:33:35,719 - CanonicalQVMEngine - INFO - Canonical QVM Engine initialized successfully\n",
      "2025-07-22 21:33:35,719 - CanonicalQVMEngine - INFO - Canonical QVM Engine initialized successfully\n",
      "2025-07-22 21:33:35,720 - CanonicalQVMEngine - INFO - QVM Weights: Quality 40.0%, Value 30.0%, Momentum 30.0%\n",
      "2025-07-22 21:33:35,720 - CanonicalQVMEngine - INFO - QVM Weights: Quality 40.0%, Value 30.0%, Momentum 30.0%\n"
     ]
    },
    {
     "name": "stdout",
     "output_type": "stream",
     "text": [
      "🔧 Initializing Baseline QVM Engine (v1)...\n",
      "✅ Baseline engine (v1) initialized successfully\n",
      "Database connection: localhost/alphabeta\n",
      "Reporting lag: 45 days\n",
      "📋 Engine Type: Simple ROAE-based Quality Signal\n"
     ]
    }
   ],
   "source": [
    "# Initialize baseline engine (v1)\n",
    "print(\"🔧 Initializing Baseline QVM Engine (v1)...\")\n",
    "\n",
    "try:\n",
    "    # Point to project config directory\n",
    "    project_root = Path.cwd().parent.parent\n",
    "    config_path = project_root / 'config'\n",
    "    \n",
    "    engine = QVMEngineV1Baseline(config_path=str(config_path), log_level='INFO')\n",
    "    \n",
    "    print(\"✅ Baseline engine (v1) initialized successfully\")\n",
    "    print(f\"Database connection: {engine.db_config['host']}/{engine.db_config['schema_name']}\")\n",
    "    print(f\"Reporting lag: {engine.reporting_lag} days\")\n",
    "    print(\"📋 Engine Type: Simple ROAE-based Quality Signal\")\n",
    "    \n",
    "except Exception as e:\n",
    "    print(f\"❌ Engine initialization failed: {e}\")\n",
    "    raise"
   ]
  },
  {
   "cell_type": "code",
   "execution_count": 3,
   "id": "define-test-parameters",
   "metadata": {},
   "outputs": [
    {
     "name": "stdout",
     "output_type": "stream",
     "text": [
      "📊 Test Configuration:\n",
      "Test Date: 2025-07-22\n",
      "Test Universe: ['OCB', 'NLG', 'FPT', 'SSI']\n",
      "Expected Sectors: {'OCB': 'Banking', 'NLG': 'Real Estate', 'FPT': 'Technology', 'SSI': 'Securities'}\n",
      "✅ Available quarter: 2025 Q1\n"
     ]
    }
   ],
   "source": [
    "# Define test parameters\n",
    "TEST_DATE = pd.Timestamp('2025-07-22')  # Known data availability\n",
    "TEST_UNIVERSE = ['OCB', 'NLG', 'FPT', 'SSI']  # Multi-sector test universe\n",
    "\n",
    "EXPECTED_SECTORS = {\n",
    "    'OCB': 'Banking',\n",
    "    'NLG': 'Real Estate', \n",
    "    'FPT': 'Technology',\n",
    "    'SSI': 'Securities'\n",
    "}\n",
    "\n",
    "print(f\"📊 Test Configuration:\")\n",
    "print(f\"Test Date: {TEST_DATE.date()}\")\n",
    "print(f\"Test Universe: {TEST_UNIVERSE}\")\n",
    "print(f\"Expected Sectors: {EXPECTED_SECTORS}\")\n",
    "\n",
    "# Validate quarter availability\n",
    "quarter_info = engine.get_correct_quarter_for_date(TEST_DATE)\n",
    "if quarter_info:\n",
    "    year, quarter = quarter_info\n",
    "    print(f\"✅ Available quarter: {year} Q{quarter}\")\n",
    "else:\n",
    "    print(f\"⚠️ No quarter data available for {TEST_DATE.date()}\")"
   ]
  },
  {
   "cell_type": "code",
   "execution_count": 4,
   "id": "test-sector-mapping",
   "metadata": {},
   "outputs": [
    {
     "name": "stdout",
     "output_type": "stream",
     "text": [
      "\n",
      "🧪 TEST 1: Sector Mapping Validation\n",
      "==================================================\n",
      "Retrieved sectors for test universe:\n",
      "✅ NLG: Real Estate (expected: Real Estate)\n",
      "✅ SSI: Securities (expected: Securities)\n",
      "✅ FPT: Technology (expected: Technology)\n",
      "✅ OCB: Banking (expected: Banking)\n",
      "✅ TEST 1 PASSED: Sector mapping correct\n"
     ]
    }
   ],
   "source": [
    "# Test 1: Sector Mapping Validation\n",
    "print(\"\\n🧪 TEST 1: Sector Mapping Validation\")\n",
    "print(\"=\" * 50)\n",
    "\n",
    "try:\n",
    "    sector_map = engine.get_sector_mapping()\n",
    "    test_sectors = sector_map[sector_map['ticker'].isin(TEST_UNIVERSE)]\n",
    "    \n",
    "    print(f\"Retrieved sectors for test universe:\")\n",
    "    for _, row in test_sectors.iterrows():\n",
    "        ticker = row['ticker']\n",
    "        sector = row['sector']\n",
    "        expected = EXPECTED_SECTORS[ticker]\n",
    "        status = \"✅\" if sector == expected else \"❌\"\n",
    "        print(f\"{status} {ticker}: {sector} (expected: {expected})\")\n",
    "    \n",
    "    # Validation\n",
    "    all_correct = all(\n",
    "        test_sectors[test_sectors['ticker'] == ticker]['sector'].iloc[0] == expected\n",
    "        for ticker, expected in EXPECTED_SECTORS.items()\n",
    "        if ticker in test_sectors['ticker'].values\n",
    "    )\n",
    "    \n",
    "    if all_correct:\n",
    "        print(\"✅ TEST 1 PASSED: Sector mapping correct\")\n",
    "    else:\n",
    "        print(\"❌ TEST 1 FAILED: Sector mapping incorrect\")\n",
    "        \n",
    "except Exception as e:\n",
    "    print(f\"❌ TEST 1 ERROR: {e}\")"
   ]
  },
  {
   "cell_type": "code",
   "execution_count": 5,
   "id": "test-fundamental-data",
   "metadata": {},
   "outputs": [
    {
     "name": "stderr",
     "output_type": "stream",
     "text": [
      "2025-07-22 21:33:58,328 - CanonicalQVMEngine - INFO - Retrieved 4 total fundamental records for 2025-07-22\n",
      "2025-07-22 21:33:58,328 - CanonicalQVMEngine - INFO - Retrieved 4 total fundamental records for 2025-07-22\n"
     ]
    },
    {
     "name": "stdout",
     "output_type": "stream",
     "text": [
      "\n",
      "🧪 TEST 2: Fundamental Data Retrieval\n",
      "==================================================\n",
      "✅ Retrieved 4 fundamental records\n",
      "📊 OCB (Banking):\n",
      "   NetProfit_TTM: 2,932,934,728,146\n",
      "   AvgTotalEquity: 30,838,336,130,891\n",
      "   Has Full TTM: True\n",
      "📊 NLG (Real Estate):\n",
      "   NetProfit_TTM: 1,556,557,651,450\n",
      "   AvgTotalEquity: 13,803,448,662,579\n",
      "   Has Full TTM: True\n",
      "📊 FPT (Technology):\n",
      "   NetProfit_TTM: 9,855,370,712,531\n",
      "   AvgTotalEquity: 34,704,201,924,362\n",
      "   Has Full TTM: True\n",
      "📊 SSI (Securities):\n",
      "   NetProfit_TTM: 2,924,802,015,721\n",
      "   AvgTotalEquity: 25,501,091,461,874\n",
      "   Has Full TTM: True\n",
      "✅ TEST 2 PASSED: Fundamental data retrieved\n"
     ]
    }
   ],
   "source": [
    "# Test 2: Fundamental Data Retrieval\n",
    "print(\"\\n🧪 TEST 2: Fundamental Data Retrieval\")\n",
    "print(\"=\" * 50)\n",
    "\n",
    "try:\n",
    "    fundamentals = engine.get_fundamentals_correct_timing(TEST_DATE, TEST_UNIVERSE)\n",
    "    \n",
    "    if not fundamentals.empty:\n",
    "        print(f\"✅ Retrieved {len(fundamentals)} fundamental records\")\n",
    "        \n",
    "        # Check data quality\n",
    "        for ticker in TEST_UNIVERSE:\n",
    "            ticker_data = fundamentals[fundamentals['ticker'] == ticker]\n",
    "            if not ticker_data.empty:\n",
    "                row = ticker_data.iloc[0]\n",
    "                sector = row.get('sector', 'Unknown')\n",
    "                \n",
    "                # Check key metrics\n",
    "                net_profit = row.get('NetProfit_TTM', 0)\n",
    "                total_equity = row.get('AvgTotalEquity', 0)\n",
    "                has_ttm = row.get('has_full_ttm', 0)\n",
    "                \n",
    "                print(f\"📊 {ticker} ({sector}):\")\n",
    "                print(f\"   NetProfit_TTM: {net_profit:,.0f}\")\n",
    "                print(f\"   AvgTotalEquity: {total_equity:,.0f}\")\n",
    "                print(f\"   Has Full TTM: {bool(has_ttm)}\")\n",
    "            else:\n",
    "                print(f\"⚠️ {ticker}: No fundamental data\")\n",
    "        \n",
    "        print(\"✅ TEST 2 PASSED: Fundamental data retrieved\")\n",
    "    else:\n",
    "        print(\"❌ TEST 2 FAILED: No fundamental data retrieved\")\n",
    "        \n",
    "except Exception as e:\n",
    "    print(f\"❌ TEST 2 ERROR: {e}\")"
   ]
  },
  {
   "cell_type": "code",
   "execution_count": 6,
   "id": "test-qvm-calculation",
   "metadata": {},
   "outputs": [
    {
     "name": "stderr",
     "output_type": "stream",
     "text": [
      "2025-07-22 21:34:31,087 - CanonicalQVMEngine - INFO - Calculating QVM composite for 4 tickers on 2025-07-22\n",
      "2025-07-22 21:34:31,087 - CanonicalQVMEngine - INFO - Calculating QVM composite for 4 tickers on 2025-07-22\n",
      "2025-07-22 21:34:31,151 - CanonicalQVMEngine - INFO - Retrieved 4 total fundamental records for 2025-07-22\n",
      "2025-07-22 21:34:31,151 - CanonicalQVMEngine - INFO - Retrieved 4 total fundamental records for 2025-07-22\n"
     ]
    },
    {
     "name": "stdout",
     "output_type": "stream",
     "text": [
      "\n",
      "🧪 TEST 4: QVM Composite Calculation (CRITICAL)\n",
      "==================================================\n"
     ]
    },
    {
     "name": "stderr",
     "output_type": "stream",
     "text": [
      "2025-07-22 21:34:31,313 - CanonicalQVMEngine - WARNING - Insufficient data for sector-neutral normalization (min sector size: 1)\n",
      "2025-07-22 21:34:31,313 - CanonicalQVMEngine - WARNING - Insufficient data for sector-neutral normalization (min sector size: 1)\n",
      "2025-07-22 21:34:31,319 - CanonicalQVMEngine - INFO - Falling back to cross-sectional normalization\n",
      "2025-07-22 21:34:31,319 - CanonicalQVMEngine - INFO - Falling back to cross-sectional normalization\n",
      "2025-07-22 21:34:31,331 - CanonicalQVMEngine - WARNING - Insufficient data for sector-neutral normalization (min sector size: 1)\n",
      "2025-07-22 21:34:31,331 - CanonicalQVMEngine - WARNING - Insufficient data for sector-neutral normalization (min sector size: 1)\n",
      "2025-07-22 21:34:31,338 - CanonicalQVMEngine - INFO - Falling back to cross-sectional normalization\n",
      "2025-07-22 21:34:31,338 - CanonicalQVMEngine - INFO - Falling back to cross-sectional normalization\n",
      "2025-07-22 21:34:32,013 - CanonicalQVMEngine - INFO - Successfully calculated QVM scores for 4 tickers\n",
      "2025-07-22 21:34:32,013 - CanonicalQVMEngine - INFO - Successfully calculated QVM scores for 4 tickers\n"
     ]
    },
    {
     "name": "stdout",
     "output_type": "stream",
     "text": [
      "✅ Calculated QVM scores for 4 tickers\n",
      "\n",
      "📊 QVM COMPOSITE RESULTS:\n",
      "----------------------------------------\n",
      "1. NLG (Real Estate): 0.3070\n",
      "2. OCB (Banking): 0.2831\n",
      "3. FPT (Technology): -0.0009\n",
      "4. SSI (Securities): -0.5892\n",
      "\n",
      "📋 VALIDATION SUMMARY:\n",
      "   Total scores: 4\n",
      "   Non-zero scores: 3\n",
      "   Reasonable range (-5 to 5): 4\n",
      "✅ TEST 4 PASSED: QVM calculation successful\n",
      "🎯 CANONICAL ENGINE VALIDATION COMPLETE\n"
     ]
    }
   ],
   "source": [
    "# Test 4: QVM Composite Calculation (CRITICAL TEST)\n",
    "print(\"\\n🧪 TEST 4: QVM Composite Calculation (CRITICAL)\")\n",
    "print(\"=\" * 50)\n",
    "\n",
    "try:\n",
    "    qvm_scores = engine.calculate_qvm_composite(TEST_DATE, TEST_UNIVERSE)\n",
    "    \n",
    "    if qvm_scores:\n",
    "        print(f\"✅ Calculated QVM scores for {len(qvm_scores)} tickers\")\n",
    "        print(\"\\n📊 QVM COMPOSITE RESULTS:\")\n",
    "        print(\"-\" * 40)\n",
    "        \n",
    "        # Sort by QVM score for ranking\n",
    "        sorted_scores = sorted(qvm_scores.items(), key=lambda x: x[1], reverse=True)\n",
    "        \n",
    "        for rank, (ticker, score) in enumerate(sorted_scores, 1):\n",
    "            sector = EXPECTED_SECTORS.get(ticker, 'Unknown')\n",
    "            print(f\"{rank}. {ticker} ({sector}): {score:.4f}\")\n",
    "        \n",
    "        # Validation checks\n",
    "        non_zero_scores = [score for score in qvm_scores.values() if abs(score) > 0.001]\n",
    "        reasonable_range = [score for score in qvm_scores.values() if -5 <= score <= 5]\n",
    "        \n",
    "        print(f\"\\n📋 VALIDATION SUMMARY:\")\n",
    "        print(f\"   Total scores: {len(qvm_scores)}\")\n",
    "        print(f\"   Non-zero scores: {len(non_zero_scores)}\")\n",
    "        print(f\"   Reasonable range (-5 to 5): {len(reasonable_range)}\")\n",
    "        \n",
    "        # Success criteria\n",
    "        success_criteria = [\n",
    "            len(qvm_scores) == len(TEST_UNIVERSE),\n",
    "            len(non_zero_scores) >= 2,  # At least half should be non-zero\n",
    "            len(reasonable_range) == len(qvm_scores),  # All should be reasonable\n",
    "            not any(np.isnan(score) for score in qvm_scores.values())  # No NaN values\n",
    "        ]\n",
    "        \n",
    "        if all(success_criteria):\n",
    "            print(\"✅ TEST 4 PASSED: QVM calculation successful\")\n",
    "            print(\"🎯 CANONICAL ENGINE VALIDATION COMPLETE\")\n",
    "        else:\n",
    "            print(\"❌ TEST 4 FAILED: QVM calculation issues detected\")\n",
    "            print(f\"   Criteria: {success_criteria}\")\n",
    "            \n",
    "    else:\n",
    "        print(\"❌ TEST 4 FAILED: No QVM scores calculated\")\n",
    "        \n",
    "except Exception as e:\n",
    "    print(f\"❌ TEST 4 ERROR: {e}\")\n",
    "    import traceback\n",
    "    traceback.print_exc()"
   ]
  },
  {
   "cell_type": "code",
   "execution_count": 7,
   "id": "final-validation",
   "metadata": {},
   "outputs": [
    {
     "name": "stderr",
     "output_type": "stream",
     "text": [
      "2025-07-22 21:34:58,526 - CanonicalQVMEngine - INFO - Calculating QVM composite for 4 tickers on 2025-07-22\n",
      "2025-07-22 21:34:58,526 - CanonicalQVMEngine - INFO - Calculating QVM composite for 4 tickers on 2025-07-22\n",
      "2025-07-22 21:34:58,596 - CanonicalQVMEngine - INFO - Retrieved 4 total fundamental records for 2025-07-22\n",
      "2025-07-22 21:34:58,596 - CanonicalQVMEngine - INFO - Retrieved 4 total fundamental records for 2025-07-22\n",
      "2025-07-22 21:34:58,689 - CanonicalQVMEngine - WARNING - Insufficient data for sector-neutral normalization (min sector size: 1)\n",
      "2025-07-22 21:34:58,689 - CanonicalQVMEngine - WARNING - Insufficient data for sector-neutral normalization (min sector size: 1)\n",
      "2025-07-22 21:34:58,690 - CanonicalQVMEngine - INFO - Falling back to cross-sectional normalization\n",
      "2025-07-22 21:34:58,690 - CanonicalQVMEngine - INFO - Falling back to cross-sectional normalization\n",
      "2025-07-22 21:34:58,694 - CanonicalQVMEngine - WARNING - Insufficient data for sector-neutral normalization (min sector size: 1)\n",
      "2025-07-22 21:34:58,694 - CanonicalQVMEngine - WARNING - Insufficient data for sector-neutral normalization (min sector size: 1)\n",
      "2025-07-22 21:34:58,694 - CanonicalQVMEngine - INFO - Falling back to cross-sectional normalization\n",
      "2025-07-22 21:34:58,694 - CanonicalQVMEngine - INFO - Falling back to cross-sectional normalization\n"
     ]
    },
    {
     "name": "stdout",
     "output_type": "stream",
     "text": [
      "\n",
      "🎯 FINAL VALIDATION SUMMARY\n",
      "==================================================\n"
     ]
    },
    {
     "name": "stderr",
     "output_type": "stream",
     "text": [
      "2025-07-22 21:34:58,737 - CanonicalQVMEngine - INFO - Successfully calculated QVM scores for 4 tickers\n",
      "2025-07-22 21:34:58,737 - CanonicalQVMEngine - INFO - Successfully calculated QVM scores for 4 tickers\n",
      "2025-07-22 21:34:58,766 - CanonicalQVMEngine - INFO - Retrieved 4 total fundamental records for 2025-07-22\n",
      "2025-07-22 21:34:58,766 - CanonicalQVMEngine - INFO - Retrieved 4 total fundamental records for 2025-07-22\n"
     ]
    },
    {
     "name": "stdout",
     "output_type": "stream",
     "text": [
      "📊 VALIDATION CHECKLIST:\n",
      "✅ Engine Initialization: PASS\n",
      "✅ Sector Mapping: PASS\n",
      "✅ Fundamental Data: PASS\n",
      "✅ Market Data: PASS\n",
      "✅ QVM Calculation: PASS\n",
      "✅ Non-Zero Results: PASS\n",
      "✅ Reasonable Values: PASS\n",
      "✅ No NaN Values: PASS\n",
      "\n",
      "==================================================\n",
      "🎉 CANONICAL ENGINE VALIDATION: ✅ PASSED\n",
      "🚀 READY FOR PHASE 2: DATA RESTORATION\n",
      "\n",
      "🎯 GATE REQUIREMENT MET - PROCEED TO PRODUCTION USE\n",
      "==================================================\n"
     ]
    }
   ],
   "source": [
    "# Final Validation Summary\n",
    "print(\"\\n🎯 FINAL VALIDATION SUMMARY\")\n",
    "print(\"=\" * 50)\n",
    "\n",
    "# Run complete validation\n",
    "try:\n",
    "    # Test complete engine workflow\n",
    "    final_scores = engine.calculate_qvm_composite(TEST_DATE, TEST_UNIVERSE)\n",
    "    \n",
    "    validation_results = {\n",
    "        'Engine Initialization': True,\n",
    "        'Sector Mapping': len(engine.get_sector_mapping()) > 0,\n",
    "        'Fundamental Data': len(engine.get_fundamentals_correct_timing(TEST_DATE, TEST_UNIVERSE)) > 0,\n",
    "        'Market Data': len(engine.get_market_data(TEST_DATE, TEST_UNIVERSE)) > 0,\n",
    "        'QVM Calculation': len(final_scores) > 0,\n",
    "        'Non-Zero Results': any(abs(score) > 0.001 for score in final_scores.values()),\n",
    "        'Reasonable Values': all(-10 <= score <= 10 for score in final_scores.values()),\n",
    "        'No NaN Values': not any(np.isnan(score) for score in final_scores.values())\n",
    "    }\n",
    "    \n",
    "    print(\"📊 VALIDATION CHECKLIST:\")\n",
    "    all_passed = True\n",
    "    \n",
    "    for test_name, result in validation_results.items():\n",
    "        status = \"✅\" if result else \"❌\"\n",
    "        print(f\"{status} {test_name}: {'PASS' if result else 'FAIL'}\")\n",
    "        if not result:\n",
    "            all_passed = False\n",
    "    \n",
    "    print(\"\\n\" + \"=\" * 50)\n",
    "    if all_passed:\n",
    "        print(\"🎉 CANONICAL ENGINE VALIDATION: ✅ PASSED\")\n",
    "        print(\"🚀 READY FOR PHASE 2: DATA RESTORATION\")\n",
    "        print(\"\\n🎯 GATE REQUIREMENT MET - PROCEED TO PRODUCTION USE\")\n",
    "    else:\n",
    "        print(\"🚫 CANONICAL ENGINE VALIDATION: ❌ FAILED\")\n",
    "        print(\"⚠️  DO NOT PROCEED TO PHASE 2 - FIX ISSUES FIRST\")\n",
    "        print(\"\\n🛑 GATE REQUIREMENT NOT MET - TROUBLESHOOTING REQUIRED\")\n",
    "    \n",
    "    print(\"=\" * 50)\n",
    "    \n",
    "except Exception as e:\n",
    "    print(f\"❌ FINAL VALIDATION ERROR: {e}\")\n",
    "    print(\"🛑 CANONICAL ENGINE NOT READY FOR PRODUCTION\")"
   ]
  },
  {
   "cell_type": "markdown",
   "id": "validation-notes",
   "metadata": {},
   "source": [
    "# Validation Notes\n",
    "\n",
    "## Success Criteria Checklist\n",
    "- [ ] Engine initializes without errors\n",
    "- [ ] Sector mapping retrieval works correctly\n",
    "- [ ] Fundamental data retrieval with point-in-time logic\n",
    "- [ ] Market data retrieval as of analysis date\n",
    "- [ ] QVM composite calculation produces reasonable results\n",
    "- [ ] All factor scores are non-zero and economically sensible\n",
    "- [ ] No NaN values in output\n",
    "- [ ] Results are in reasonable range (-10 to +10)\n",
    "\n",
    "## Expected Behavior\n",
    "- **OCB (Banking)**: Should have reasonable quality/value scores from banking metrics\n",
    "- **NLG (Real Estate)**: Should show sector-specific characteristics\n",
    "- **FPT (Technology)**: Typically high-quality, growth-oriented scores\n",
    "- **SSI (Securities)**: Should reflect securities sector dynamics\n",
    "\n",
    "## Gate Requirement\n",
    "**🚨 CRITICAL**: This unit test serves as the gate requirement for Phase 2 progression. All tests must pass before any production data restoration attempts.\n",
    "\n",
    "If any test fails, the canonical engine must be fixed before proceeding to avoid contaminating the production data restoration process."
   ]
  },
  {
   "cell_type": "code",
   "execution_count": 8,
   "id": "l3lncd0rp4q",
   "metadata": {},
   "outputs": [
    {
     "name": "stdout",
     "output_type": "stream",
     "text": [
      "✅ Baseline QVM Engine (v1) Unit Test Setup Complete\n",
      "Production path: /Users/ducnguyen/Library/CloudStorage/GoogleDrive-duc.nguyentcb@gmail.com/My Drive/quant-world-invest/factor_investing_project/production\n"
     ]
    }
   ],
   "source": [
    "# Setup imports and logging\n",
    "import sys\n",
    "import pandas as pd\n",
    "import numpy as np\n",
    "from pathlib import Path\n",
    "from datetime import datetime\n",
    "import logging\n",
    "\n",
    "# Add production engine to path\n",
    "production_path = Path.cwd().parent\n",
    "sys.path.append(str(production_path))\n",
    "\n",
    "# Import baseline engine (v1)\n",
    "from engine.qvm_engine_v1_baseline import QVMEngineV1Baseline\n",
    "\n",
    "# Setup logging for test visibility\n",
    "logging.basicConfig(\n",
    "    level=logging.INFO,\n",
    "    format='%(asctime)s - %(name)s - %(levelname)s - %(message)s'\n",
    ")\n",
    "\n",
    "print(\"✅ Baseline QVM Engine (v1) Unit Test Setup Complete\")\n",
    "print(f\"Production path: {production_path}\")"
   ]
  }
 ],
 "metadata": {
  "kernelspec": {
   "display_name": "vn_factor_env",
   "language": "python",
   "name": "python3"
  },
  "language_info": {
   "codemirror_mode": {
    "name": "ipython",
    "version": 3
   },
   "file_extension": ".py",
   "mimetype": "text/x-python",
   "name": "python",
   "nbconvert_exporter": "python",
   "pygments_lexer": "ipython3",
   "version": "3.11.13"
  }
 },
 "nbformat": 4,
 "nbformat_minor": 5
}
