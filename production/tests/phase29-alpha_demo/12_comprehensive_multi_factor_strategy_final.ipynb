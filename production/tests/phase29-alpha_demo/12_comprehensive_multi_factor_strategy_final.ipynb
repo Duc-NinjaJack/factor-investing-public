{
 "cells": [
  {
   "cell_type": "code",
   "execution_count": 1,
   "id": "12fba347",
   "metadata": {},
   "outputs": [
    {
     "data": {
      "text/plain": [
       "'\\nQVM Engine v3j Comprehensive Multi-Factor Strategy v2\\n====================================================\\n\\nThis strategy combines 6 factors using VNSC data for maximum coverage:\\n- ROAA (Quality) - from raw fundamental data\\n- P/E (Value) - from raw fundamental data + market data\\n- Momentum (4-horizon) - from VNSC daily data\\n- FCF Yield (Value) - from raw fundamental data\\n- F-Score (Quality) - from raw fundamental data\\n- Low Volatility (Risk) - from VNSC daily data\\n\\nThe strategy uses VNSC daily data and raw fundamental data for maximum\\nhistorical coverage and precise financial calculations.\\n'"
      ]
     },
     "execution_count": 1,
     "metadata": {},
     "output_type": "execute_result"
    }
   ],
   "source": [
    "\"\"\"\n",
    "QVM Engine v3j Comprehensive Multi-Factor Strategy v2\n",
    "====================================================\n",
    "\n",
    "This strategy combines 6 factors using VNSC data for maximum coverage:\n",
    "- ROAA (Quality) - from raw fundamental data\n",
    "- P/E (Value) - from raw fundamental data + market data\n",
    "- Momentum (4-horizon) - from VNSC daily data\n",
    "- FCF Yield (Value) - from raw fundamental data\n",
    "- F-Score (Quality) - from raw fundamental data\n",
    "- Low Volatility (Risk) - from VNSC daily data\n",
    "\n",
    "The strategy uses VNSC daily data and raw fundamental data for maximum\n",
    "historical coverage and precise financial calculations.\n",
    "\"\"\""
   ]
  },
  {
   "cell_type": "code",
   "execution_count": 2,
   "id": "0b295ec7",
   "metadata": {},
   "outputs": [],
   "source": [
    "import sys\n",
    "import os\n",
    "import pandas as pd\n",
    "import numpy as np\n",
    "import matplotlib.pyplot as plt\n",
    "import seaborn as sns\n",
    "from datetime import datetime, timedelta\n",
    "from pathlib import Path\n",
    "import warnings\n",
    "warnings.filterwarnings('ignore')"
   ]
  },
  {
   "cell_type": "code",
   "execution_count": 3,
   "id": "cd8ff8c4",
   "metadata": {},
   "outputs": [],
   "source": [
    "# Database connectivity\n",
    "from sqlalchemy import create_engine, text"
   ]
  },
  {
   "cell_type": "code",
   "execution_count": 4,
   "id": "8a828dd3",
   "metadata": {},
   "outputs": [],
   "source": [
    "# Add Project Root to Python Path\n",
    "current_path = Path.cwd()\n",
    "while not (current_path / 'production').is_dir():\n",
    "    if current_path.parent == current_path:\n",
    "        raise FileNotFoundError(\"Could not find the 'production' directory.\")\n",
    "    current_path = current_path.parent"
   ]
  },
  {
   "cell_type": "code",
   "execution_count": 5,
   "id": "c806df70",
   "metadata": {},
   "outputs": [],
   "source": [
    "project_root = current_path"
   ]
  },
  {
   "cell_type": "code",
   "execution_count": 6,
   "id": "a8fe2106",
   "metadata": {},
   "outputs": [],
   "source": [
    "if str(project_root) not in sys.path:\n",
    "    sys.path.insert(0, str(project_root))"
   ]
  },
  {
   "cell_type": "code",
   "execution_count": 7,
   "id": "779d6537",
   "metadata": {},
   "outputs": [],
   "source": [
    "# Import production modules\n",
    "from production.database.connection import get_database_manager"
   ]
  },
  {
   "cell_type": "code",
   "execution_count": 8,
   "id": "d8ab9989",
   "metadata": {},
   "outputs": [
    {
     "name": "stdout",
     "output_type": "stream",
     "text": [
      "✅ Successfully imported production modules.\n",
      "   - Project Root set to: /home/raymond/Documents/Projects/factor-investing-public\n",
      "✅ Successfully imported production modules.\n",
      "   - Project Root set to: /home/raymond/Documents/Projects/factor-investing-public\n"
     ]
    }
   ],
   "source": [
    "# Import our custom components\n",
    "sys.path.append(str(project_root / 'production' / 'tests' / 'phase29-alpha_demo' / 'components'))\n",
    "from fundamental_factor_calculator import FundamentalFactorCalculator\n",
    "from momentum_volatility_calculator import MomentumVolatilityCalculator"
   ]
  },
  {
   "cell_type": "code",
   "execution_count": 9,
   "id": "8f0c3784",
   "metadata": {},
   "outputs": [
    {
     "name": "stdout",
     "output_type": "stream",
     "text": [
      "✅ Successfully imported production modules.\n",
      "   - Project Root set to: /home/raymond/Documents/Projects/factor-investing-public\n"
     ]
    }
   ],
   "source": [
    "print(f\"✅ Successfully imported production modules.\")\n",
    "print(f\"   - Project Root set to: {project_root}\")"
   ]
  },
  {
   "cell_type": "code",
   "execution_count": 10,
   "id": "cc781a82",
   "metadata": {},
   "outputs": [],
   "source": [
    "# COMPREHENSIVE MULTI-FACTOR CONFIGURATION\n",
    "QVM_CONFIG = {\n",
    "    \"strategy_name\": \"QVM_Engine_v3j_Comprehensive_Multi_Factor_v2\",\n",
    "    \"backtest_start_date\": \"2016-01-01\",\n",
    "    \"backtest_end_date\": \"2025-07-28\",\n",
    "    \"rebalance_frequency\": \"M\",\n",
    "    \"transaction_cost_bps\": 30,\n",
    "    \"universe\": {\n",
    "        \"lookback_days\": 63,\n",
    "        \"top_n_stocks\": 40,\n",
    "        \"max_position_size\": 0.035,\n",
    "        \"max_sector_exposure\": 0.25,\n",
    "        \"target_portfolio_size\": 35,\n",
    "    },\n",
    "    \"factors\": {\n",
    "        # Quality factors (1/3 total weight)\n",
    "        \"roaa_weight\": 0.167,  # 0.5 * 1/3 = 0.167\n",
    "        \"f_score_weight\": 0.167,  # 0.5 * 1/3 = 0.167\n",
    "        \n",
    "        # Value factors (1/3 total weight)\n",
    "        \"pe_weight\": 0.167,  # 0.5 * 1/3 = 0.167\n",
    "        \"fcf_yield_weight\": 0.167,  # 0.5 * 1/3 = 0.167\n",
    "        \n",
    "        # Momentum factors (1/3 total weight)\n",
    "        \"momentum_weight\": 0.167,  # 0.5 * 1/3 = 0.167\n",
    "        \"low_vol_weight\": 0.167,  # 0.5 * 1/3 = 0.167\n",
    "        \n",
    "        \"momentum_horizons\": [21, 63, 126, 252],\n",
    "        \"skip_months\": 1,\n",
    "        \"fundamental_lag_days\": 45,\n",
    "    }\n",
    "}"
   ]
  },
  {
   "cell_type": "code",
   "execution_count": 11,
   "id": "439ee3d0",
   "metadata": {
    "lines_to_next_cell": 1
   },
   "outputs": [
    {
     "name": "stdout",
     "output_type": "stream",
     "text": [
      "\n",
      "⚙️  QVM Engine v3j Comprehensive Multi-Factor v2 Configuration Loaded:\n",
      "   - Strategy: QVM_Engine_v3j_Comprehensive_Multi_Factor_v2\n",
      "   - Period: 2016-01-01 to 2025-07-28\n",
      "   - Universe: Top 40 stocks by ADTV\n",
      "   - Rebalancing: M frequency\n",
      "   - Quality (1/3): ROAA 50% + F-Score 50%\n",
      "   - Value (1/3): P/E 50% + FCF Yield 50%\n",
      "   - Momentum (1/3): 4-Horizon 50% + Low Vol 50%\n",
      "   - Data Source: VNSC daily data + Raw fundamental data\n"
     ]
    }
   ],
   "source": [
    "print(\"\\n⚙️  QVM Engine v3j Comprehensive Multi-Factor v2 Configuration Loaded:\")\n",
    "print(f\"   - Strategy: {QVM_CONFIG['strategy_name']}\")\n",
    "print(f\"   - Period: {QVM_CONFIG['backtest_start_date']} to {QVM_CONFIG['backtest_end_date']}\")\n",
    "print(f\"   - Universe: Top {QVM_CONFIG['universe']['top_n_stocks']} stocks by ADTV\")\n",
    "print(f\"   - Rebalancing: {QVM_CONFIG['rebalance_frequency']} frequency\")\n",
    "print(f\"   - Quality (1/3): ROAA 50% + F-Score 50%\")\n",
    "print(f\"   - Value (1/3): P/E 50% + FCF Yield 50%\")\n",
    "print(f\"   - Momentum (1/3): 4-Horizon 50% + Low Vol 50%\")\n",
    "print(f\"   - Data Source: VNSC daily data + Raw fundamental data\")"
   ]
  },
  {
   "cell_type": "code",
   "execution_count": 12,
   "id": "4bc006b6",
   "metadata": {
    "lines_to_next_cell": 1
   },
   "outputs": [],
   "source": [
    "def create_db_connection():\n",
    "    \"\"\"Create database connection.\"\"\"\n",
    "    try:\n",
    "        db_manager = get_database_manager()\n",
    "        engine = db_manager.get_engine()\n",
    "        print(\"✅ Database connection established\")\n",
    "        return engine\n",
    "    except Exception as e:\n",
    "        print(f\"❌ Database connection failed: {e}\")\n",
    "        raise"
   ]
  },
  {
   "cell_type": "code",
   "execution_count": 13,
   "id": "b64f7d75",
   "metadata": {
    "lines_to_next_cell": 1
   },
   "outputs": [],
   "source": [
    "def load_universe_data(config, db_engine):\n",
    "    \"\"\"Load universe data using VNSC daily data.\"\"\"\n",
    "    print(\"📊 Loading universe data...\")\n",
    "    \n",
    "    start_date = pd.to_datetime(config['backtest_start_date']) - timedelta(days=config['universe']['lookback_days'])\n",
    "    \n",
    "    query = text(\"\"\"\n",
    "        SELECT \n",
    "            ticker,\n",
    "            trading_date,\n",
    "            close_price_adjusted as close,\n",
    "            total_volume as volume,\n",
    "            total_value as value,\n",
    "            market_cap\n",
    "        FROM vcsc_daily_data_complete\n",
    "        WHERE trading_date >= :start_date\n",
    "        AND close_price_adjusted > 0\n",
    "        AND total_volume > 0\n",
    "        ORDER BY ticker, trading_date\n",
    "    \"\"\")\n",
    "    \n",
    "    universe_data = pd.read_sql(query, db_engine, params={'start_date': start_date})\n",
    "    \n",
    "    print(f\"   ✅ Loaded {len(universe_data):,} universe records\")\n",
    "    print(f\"   📊 Coverage: {universe_data['ticker'].nunique()} tickers\")\n",
    "    \n",
    "    return universe_data"
   ]
  },
  {
   "cell_type": "code",
   "execution_count": 14,
   "id": "8a681b92",
   "metadata": {
    "lines_to_next_cell": 1
   },
   "outputs": [],
   "source": [
    "def calculate_universe_rankings(universe_data, config):\n",
    "    \"\"\"Calculate universe rankings based on average daily turnover.\"\"\"\n",
    "    print(\"📊 Calculating universe rankings...\")\n",
    "    \n",
    "    # Calculate average daily turnover for each stock\n",
    "    rankings = universe_data.groupby('ticker').agg({\n",
    "        'volume': 'mean',\n",
    "        'value': 'mean',\n",
    "        'market_cap': 'mean',\n",
    "        'trading_date': 'max'\n",
    "    }).reset_index()\n",
    "    \n",
    "    # Calculate average daily turnover (volume * price)\n",
    "    rankings['avg_daily_turnover'] = rankings['volume'] * rankings['market_cap'] / rankings['market_cap']\n",
    "    \n",
    "    # Sort by average daily turnover and get top N\n",
    "    top_n = config['universe']['top_n_stocks']\n",
    "    rankings = rankings.nlargest(top_n * 2, 'avg_daily_turnover')  # Get 2x for filtering\n",
    "    \n",
    "    # Add ranking\n",
    "    rankings['ranking'] = range(1, len(rankings) + 1)\n",
    "    \n",
    "    print(f\"   ✅ Calculated rankings for {len(rankings)} stocks\")\n",
    "    print(f\"   📊 Top stock: {rankings.iloc[0]['ticker']} (turnover: {rankings.iloc[0]['avg_daily_turnover']:,.0f})\")\n",
    "    \n",
    "    return rankings"
   ]
  },
  {
   "cell_type": "code",
   "execution_count": 15,
   "id": "46c71584",
   "metadata": {
    "lines_to_next_cell": 1
   },
   "outputs": [],
   "source": [
    "def load_benchmark_data(config, db_engine):\n",
    "    \"\"\"Load benchmark data (VN-Index).\"\"\"\n",
    "    print(\"📊 Loading benchmark data...\")\n",
    "    \n",
    "    query = text(\"\"\"\n",
    "        SELECT \n",
    "            trading_date,\n",
    "            close_price_adjusted as close\n",
    "        FROM vcsc_daily_data_complete\n",
    "        WHERE ticker = 'VNM'\n",
    "        AND trading_date BETWEEN :start_date AND :end_date\n",
    "        ORDER BY trading_date\n",
    "    \"\"\")\n",
    "    \n",
    "    benchmark_data = pd.read_sql(query, db_engine, params={\n",
    "        'start_date': config['backtest_start_date'],\n",
    "        'end_date': config['backtest_end_date']\n",
    "    })\n",
    "    \n",
    "    # Calculate benchmark returns\n",
    "    benchmark_data['returns'] = benchmark_data['close'].pct_change()\n",
    "    \n",
    "    print(f\"   ✅ Loaded {len(benchmark_data)} benchmark records\")\n",
    "    print(f\"   📅 Period: {benchmark_data['trading_date'].min()} to {benchmark_data['trading_date'].max()}\")\n",
    "    \n",
    "    return benchmark_data"
   ]
  },
  {
   "cell_type": "code",
   "execution_count": 16,
   "id": "8adfef66",
   "metadata": {
    "lines_to_next_cell": 1
   },
   "outputs": [],
   "source": [
    "def calculate_fundamental_factors(config, db_engine):\n",
    "    \"\"\"Calculate fundamental factors using raw data.\"\"\"\n",
    "    print(\"📊 Calculating fundamental factors...\")\n",
    "    \n",
    "    # Initialize fundamental calculator\n",
    "    fundamental_calc = FundamentalFactorCalculator(db_engine)\n",
    "    \n",
    "    # Calculate factors for the entire period\n",
    "    fundamental_factors = fundamental_calc.calculate_all_factors(\n",
    "        config['backtest_start_date'],\n",
    "        config['backtest_end_date']\n",
    "    )\n",
    "    \n",
    "    print(f\"   ✅ Calculated fundamental factors for {len(fundamental_factors)} records\")\n",
    "    print(f\"   📊 Coverage: {fundamental_factors['ticker'].nunique()} tickers\")\n",
    "    \n",
    "    return fundamental_factors"
   ]
  },
  {
   "cell_type": "code",
   "execution_count": 17,
   "id": "ec5d9dcb",
   "metadata": {
    "lines_to_next_cell": 1
   },
   "outputs": [],
   "source": [
    "def calculate_momentum_volatility_factors(config, db_engine):\n",
    "    \"\"\"Calculate momentum and volatility factors using VNSC data.\"\"\"\n",
    "    print(\"📊 Calculating momentum and volatility factors...\")\n",
    "    \n",
    "    # Initialize momentum/volatility calculator\n",
    "    momentum_vol_calc = MomentumVolatilityCalculator(db_engine)\n",
    "    \n",
    "    # Calculate factors for the entire period\n",
    "    momentum_vol_factors = momentum_vol_calc.calculate_all_factors(\n",
    "        config['backtest_start_date'],\n",
    "        config['backtest_end_date']\n",
    "    )\n",
    "    \n",
    "    print(f\"   ✅ Calculated momentum/volatility factors for {len(momentum_vol_factors)} records\")\n",
    "    print(f\"   📊 Coverage: {momentum_vol_factors['ticker'].nunique()} tickers\")\n",
    "    \n",
    "    return momentum_vol_factors"
   ]
  },
  {
   "cell_type": "code",
   "execution_count": 18,
   "id": "ca6a75fe",
   "metadata": {
    "lines_to_next_cell": 1
   },
   "outputs": [],
   "source": [
    "def combine_all_factors(fundamental_factors, momentum_vol_factors, universe_rankings):\n",
    "    \"\"\"Combine all factors into a single dataset.\"\"\"\n",
    "    print(\"📊 Combining all factors...\")\n",
    "    \n",
    "    # Get universe tickers\n",
    "    universe_tickers = universe_rankings['ticker'].tolist()\n",
    "    \n",
    "    # Filter factors to universe\n",
    "    fundamental_filtered = fundamental_factors[fundamental_factors['ticker'].isin(universe_tickers)]\n",
    "    momentum_vol_filtered = momentum_vol_factors[momentum_vol_factors['ticker'].isin(universe_tickers)]\n",
    "    \n",
    "    # Convert fundamental date to datetime for merging\n",
    "    fundamental_filtered['date'] = pd.to_datetime(fundamental_filtered['date'])\n",
    "    \n",
    "    # Merge fundamental and momentum/volatility factors\n",
    "    combined_factors = fundamental_filtered.merge(\n",
    "        momentum_vol_factors[['ticker', 'trading_date', 'composite_momentum', 'low_vol_score', 'momentum_vol_score']],\n",
    "        left_on=['ticker', 'date'],\n",
    "        right_on=['ticker', 'trading_date'],\n",
    "        how='outer'\n",
    "    )\n",
    "    \n",
    "    # Fill missing values\n",
    "    combined_factors['roaa'] = combined_factors['roaa'].fillna(0)\n",
    "    combined_factors['pe_ratio'] = combined_factors['pe_ratio'].fillna(50)\n",
    "    combined_factors['fcf_yield'] = combined_factors['fcf_yield'].fillna(0)\n",
    "    combined_factors['f_score'] = combined_factors['f_score'].fillna(0)\n",
    "    combined_factors['composite_momentum'] = combined_factors['composite_momentum'].fillna(0)\n",
    "    combined_factors['low_vol_score'] = combined_factors['low_vol_score'].fillna(0.5)\n",
    "    \n",
    "    print(f\"   ✅ Combined factors for {len(combined_factors)} records\")\n",
    "    print(f\"   📊 Coverage: {combined_factors['ticker'].nunique()} tickers\")\n",
    "    \n",
    "    return combined_factors"
   ]
  },
  {
   "cell_type": "code",
   "execution_count": 19,
   "id": "ab6a1153",
   "metadata": {
    "lines_to_next_cell": 1
   },
   "outputs": [],
   "source": [
    "def normalize_factor(factor_series):\n",
    "    \"\"\"Normalize factor to 0-1 range using winsorization and z-score.\"\"\"\n",
    "    if factor_series.empty or factor_series.isna().all():\n",
    "        return pd.Series(0, index=factor_series.index)\n",
    "    \n",
    "    # Remove outliers using winsorization\n",
    "    factor_clean = factor_series.copy()\n",
    "    q1 = factor_clean.quantile(0.01)\n",
    "    q99 = factor_clean.quantile(0.99)\n",
    "    factor_clean = factor_clean.clip(q1, q99)\n",
    "    \n",
    "    # Calculate z-score\n",
    "    mean_val = factor_clean.mean()\n",
    "    std_val = factor_clean.std()\n",
    "    \n",
    "    if std_val == 0:\n",
    "        return pd.Series(0.5, index=factor_series.index)\n",
    "    \n",
    "    z_scores = (factor_clean - mean_val) / std_val\n",
    "    \n",
    "    # Convert to 0-1 range using sigmoid\n",
    "    normalized = 1 / (1 + np.exp(-z_scores))\n",
    "    \n",
    "    return normalized.fillna(0.5)"
   ]
  },
  {
   "cell_type": "code",
   "execution_count": 20,
   "id": "8cacef06",
   "metadata": {
    "lines_to_next_cell": 1
   },
   "outputs": [],
   "source": [
    "def calculate_composite_scores(combined_factors, config):\n",
    "    \"\"\"Calculate composite factor scores.\"\"\"\n",
    "    print(\"📊 Calculating composite scores...\")\n",
    "    \n",
    "    # Normalize individual factors\n",
    "    combined_factors['roaa_score'] = normalize_factor(combined_factors['roaa'])\n",
    "    combined_factors['pe_score'] = normalize_factor(-combined_factors['pe_ratio'])  # Lower P/E is better\n",
    "    combined_factors['fcf_yield_score'] = normalize_factor(combined_factors['fcf_yield'])\n",
    "    combined_factors['f_score_score'] = normalize_factor(combined_factors['f_score'])\n",
    "    combined_factors['momentum_score'] = normalize_factor(combined_factors['composite_momentum'])\n",
    "    combined_factors['low_vol_score_final'] = normalize_factor(combined_factors['low_vol_score'])\n",
    "    \n",
    "    # Calculate composite scores by category\n",
    "    # Quality factors (1/3 total weight)\n",
    "    quality_score = (\n",
    "        combined_factors['roaa_score'] * 0.5 +  # 50% of quality\n",
    "        combined_factors['f_score_score'] * 0.5   # 50% of quality\n",
    "    )\n",
    "    \n",
    "    # Value factors (1/3 total weight)\n",
    "    value_score = (\n",
    "        combined_factors['pe_score'] * 0.5 +      # 50% of value\n",
    "        combined_factors['fcf_yield_score'] * 0.5  # 50% of value\n",
    "    )\n",
    "    \n",
    "    # Momentum factors (1/3 total weight)\n",
    "    momentum_score = (\n",
    "        combined_factors['momentum_score'] * 0.5 +  # 50% of momentum (4-horizon average)\n",
    "        combined_factors['low_vol_score_final'] * 0.5     # 50% of momentum (low vol)\n",
    "    )\n",
    "    \n",
    "    # Final composite score: 1/3 Quality + 1/3 Value + 1/3 Momentum\n",
    "    combined_factors['composite_score'] = (\n",
    "        quality_score * (1/3) +\n",
    "        value_score * (1/3) +\n",
    "        momentum_score * (1/3)\n",
    "    )\n",
    "    \n",
    "    print(f\"   ✅ Calculated composite scores for {len(combined_factors)} records\")\n",
    "    print(f\"   📊 Score range: {combined_factors['composite_score'].min():.4f} to {combined_factors['composite_score'].max():.4f}\")\n",
    "    \n",
    "    return combined_factors"
   ]
  },
  {
   "cell_type": "code",
   "execution_count": 21,
   "id": "5db72044",
   "metadata": {
    "lines_to_next_cell": 1
   },
   "outputs": [],
   "source": [
    "def test_strategy_components():\n",
    "    \"\"\"Test individual strategy components.\"\"\"\n",
    "    print(\"🧪 Testing Strategy Components...\")\n",
    "    \n",
    "    try:\n",
    "        # Test database connection\n",
    "        print(\"   🔍 Testing database connection...\")\n",
    "        db_engine = create_db_connection()\n",
    "        print(\"   ✅ Database connection successful\")\n",
    "        \n",
    "        # Test universe data loading\n",
    "        print(\"   🔍 Testing universe data loading...\")\n",
    "        universe_data = load_universe_data(QVM_CONFIG, db_engine)\n",
    "        print(f\"   ✅ Universe data loaded: {len(universe_data):,} records\")\n",
    "        \n",
    "        # Test benchmark data loading\n",
    "        print(\"   🔍 Testing benchmark data loading...\")\n",
    "        benchmark_data = load_benchmark_data(QVM_CONFIG, db_engine)\n",
    "        print(f\"   ✅ Benchmark data loaded: {len(benchmark_data)} records\")\n",
    "        \n",
    "        # Test fundamental factor calculation (small period)\n",
    "        print(\"   🔍 Testing fundamental factor calculation...\")\n",
    "        test_config = QVM_CONFIG.copy()\n",
    "        test_config['backtest_start_date'] = \"2020-01-01\"\n",
    "        test_config['backtest_end_date'] = \"2020-12-31\"\n",
    "        \n",
    "        fundamental_factors = calculate_fundamental_factors(test_config, db_engine)\n",
    "        print(f\"   ✅ Fundamental factors calculated: {len(fundamental_factors)} records\")\n",
    "        \n",
    "        # Test momentum/volatility factor calculation (small period)\n",
    "        print(\"   🔍 Testing momentum/volatility factor calculation...\")\n",
    "        momentum_vol_factors = calculate_momentum_volatility_factors(test_config, db_engine)\n",
    "        print(f\"   ✅ Momentum/volatility factors calculated: {len(momentum_vol_factors)} records\")\n",
    "        \n",
    "        # Test factor combination\n",
    "        print(\"   🔍 Testing factor combination...\")\n",
    "        universe_rankings = calculate_universe_rankings(universe_data, test_config)\n",
    "        combined_factors = combine_all_factors(fundamental_factors, momentum_vol_factors, universe_rankings)\n",
    "        print(f\"   ✅ Factors combined: {len(combined_factors)} records\")\n",
    "        \n",
    "        # Test composite score calculation\n",
    "        print(\"   🔍 Testing composite score calculation...\")\n",
    "        combined_factors = calculate_composite_scores(combined_factors, test_config)\n",
    "        print(f\"   ✅ Composite scores calculated: {len(combined_factors)} records\")\n",
    "        \n",
    "        print(\"✅ All strategy components tested successfully!\")\n",
    "        \n",
    "    except Exception as e:\n",
    "        print(f\"❌ Component test failed: {e}\")\n",
    "        import traceback\n",
    "        traceback.print_exc()"
   ]
  },
  {
   "cell_type": "code",
   "execution_count": 22,
   "id": "962349bf",
   "metadata": {},
   "outputs": [
    {
     "name": "stderr",
     "output_type": "stream",
     "text": [
      "2025-08-06 16:59:27,108 - production.database.connection - INFO - Database configuration loaded from /home/raymond/Documents/Projects/factor-investing-public/config/database.yml\n",
      "2025-08-06 16:59:27,108 - production.database.connection - INFO - DatabaseManager initialized for environment: production\n"
     ]
    },
    {
     "name": "stdout",
     "output_type": "stream",
     "text": [
      "🧪 Testing Strategy Components...\n",
      "   🔍 Testing database connection...\n"
     ]
    },
    {
     "name": "stderr",
     "output_type": "stream",
     "text": [
      "2025-08-06 16:59:27,124 - production.database.connection - INFO - SQLAlchemy engine created successfully\n"
     ]
    },
    {
     "name": "stdout",
     "output_type": "stream",
     "text": [
      "✅ Database connection established\n",
      "   ✅ Database connection successful\n",
      "   🔍 Testing universe data loading...\n",
      "📊 Loading universe data...\n",
      "   ✅ Loaded 1,356,349 universe records\n",
      "   📊 Coverage: 728 tickers\n",
      "   ✅ Universe data loaded: 1,356,349 records\n",
      "   🔍 Testing benchmark data loading...\n",
      "📊 Loading benchmark data...\n",
      "   ✅ Loaded 2389 benchmark records\n",
      "   📅 Period: 2016-01-04 to 2025-07-25\n",
      "   ✅ Benchmark data loaded: 2389 records\n",
      "   🔍 Testing fundamental factor calculation...\n",
      "📊 Calculating fundamental factors...\n",
      "✅ Fundamental Factor Calculator initialized\n",
      "   - Using raw fundamental_values for maximum coverage\n",
      "   - Using correct VNSC item mappings\n",
      "🚀 Calculating all fundamental factors...\n",
      "📊 Loading raw fundamental data from 2020-01-01 to 2020-12-31...\n",
      "   ✅ Loaded 516,552 fundamental records\n",
      "   📊 Coverage: 728 tickers, 1 years\n",
      "📊 Calculating TTM values...\n",
      "   ✅ Calculated TTM values for 120,391 records\n",
      "📊 Calculating balance sheet averages...\n",
      "   ✅ Calculated averages for 120,391 records\n",
      "📊 Loading market data...\n",
      "   ✅ Loaded market data for 2789 records\n",
      "📊 Calculating ROAA...\n",
      "   ✅ Calculated ROAA for 1335 records\n",
      "📊 Calculating P/E ratios...\n",
      "   ✅ Calculated P/E ratios for 1321 records\n",
      "📊 Calculating FCF Yield...\n",
      "   ✅ Calculated FCF Yield for 1407 records\n",
      "📊 Calculating F-Score...\n",
      "   ✅ Calculated F-Score for 1418 records\n",
      "✅ All fundamental factors calculated for 1418 records\n",
      "   📊 Coverage: 713 tickers\n",
      "   📅 Period: 2020-2020\n",
      "   ✅ Calculated fundamental factors for 1418 records\n",
      "   📊 Coverage: 713 tickers\n",
      "   ✅ Fundamental factors calculated: 1418 records\n",
      "   🔍 Testing momentum/volatility factor calculation...\n",
      "📊 Calculating momentum and volatility factors...\n",
      "✅ Momentum and Volatility Calculator initialized\n",
      "   - Using VNSC daily data for maximum coverage\n",
      "   - Momentum horizons: [21, 63, 126, 252]\n",
      "🚀 Calculating all momentum and volatility factors...\n",
      "📊 Loading price data from 2020-01-01 to 2020-12-31...\n",
      "   ✅ Loaded 309,537 price records\n",
      "   📊 Coverage: 705 tickers\n",
      "   📅 Period: 2019-03-25 to 2020-12-31\n",
      "📊 Calculating daily returns...\n",
      "   ✅ Calculated returns for 308,832 records\n",
      "📊 Calculating momentum factors...\n",
      "   ✅ Calculated momentum factors for 308,832 records\n",
      "📊 Calculating volatility factors...\n",
      "   ✅ Calculated volatility factors for 308,832 records\n",
      "📊 Calculating liquidity factors...\n",
      "   ✅ Calculated liquidity factors for 308,832 records\n",
      "📊 Combining all factors...\n",
      "   ✅ Combined factors for 308,832 records\n",
      "✅ All momentum and volatility factors calculated for 174885 records\n",
      "   📊 Coverage: 704 tickers\n",
      "   📅 Period: 2020-01-02 00:00:00 to 2020-12-31 00:00:00\n",
      "   ✅ Calculated momentum/volatility factors for 174885 records\n",
      "   📊 Coverage: 704 tickers\n",
      "   ✅ Momentum/volatility factors calculated: 174885 records\n",
      "   🔍 Testing factor combination...\n",
      "📊 Calculating universe rankings...\n",
      "   ✅ Calculated rankings for 80 stocks\n",
      "   📊 Top stock: SHB (turnover: 16,510,044)\n",
      "📊 Combining all factors...\n",
      "   ✅ Combined factors for 174892 records\n",
      "   📊 Coverage: 707 tickers\n",
      "   ✅ Factors combined: 174892 records\n",
      "   🔍 Testing composite score calculation...\n",
      "📊 Calculating composite scores...\n",
      "   ✅ Calculated composite scores for 174892 records\n",
      "   📊 Score range: 0.3582 to 0.6313\n",
      "   ✅ Composite scores calculated: 174892 records\n",
      "✅ All strategy components tested successfully!\n"
     ]
    }
   ],
   "source": [
    "if __name__ == \"__main__\":\n",
    "    test_strategy_components()"
   ]
  }
 ],
 "metadata": {
  "jupytext": {
   "cell_metadata_filter": "-all",
   "executable": "/usr/bin/env python3",
   "main_language": "python",
   "notebook_metadata_filter": "-all"
  },
  "kernelspec": {
   "display_name": "quantstats-env",
   "language": "python",
   "name": "python3"
  },
  "language_info": {
   "codemirror_mode": {
    "name": "ipython",
    "version": 3
   },
   "file_extension": ".py",
   "mimetype": "text/x-python",
   "name": "python",
   "nbconvert_exporter": "python",
   "pygments_lexer": "ipython3",
   "version": "3.8.20"
  }
 },
 "nbformat": 4,
 "nbformat_minor": 5
}
